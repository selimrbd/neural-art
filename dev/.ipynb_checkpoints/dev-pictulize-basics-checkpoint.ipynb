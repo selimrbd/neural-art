{
 "cells": [
  {
   "cell_type": "markdown",
   "metadata": {},
   "source": [
    "# dev-pictulize-basics"
   ]
  },
  {
   "cell_type": "markdown",
   "metadata": {},
   "source": [
    "### references"
   ]
  },
  {
   "cell_type": "markdown",
   "metadata": {},
   "source": [
    "* [using nst in tf hub](https://colab.research.google.com/github/tensorflow/hub/blob/master/examples/colab/tf2_arbitrary_image_stylization.ipynb#scrollTo=lnAv-F3O9fLV)\n",
    "* [load images in tf](https://www.tensorflow.org/tutorials/load_data/images)\n",
    "* [download tf hub module](https://stackoverflow.com/questions/50322001/how-to-save-load-a-tensorflow-hub-module-to-from-a-custom-path)"
   ]
  },
  {
   "cell_type": "markdown",
   "metadata": {},
   "source": [
    "## environment setup"
   ]
  },
  {
   "cell_type": "code",
   "execution_count": null,
   "metadata": {},
   "outputs": [],
   "source": [
    "import functools\n",
    "import os\n",
    "\n",
    "import numpy as np\n",
    "import matplotlib\n",
    "from matplotlib import gridspec\n",
    "import matplotlib.pylab as plt\n",
    "import numpy as np\n",
    "import tensorflow as tf\n",
    "import tensorflow_hub as hub\n",
    "from pathlib import Path\n",
    "from PIL import Image\n",
    "import urllib.request\n",
    "import tarfile\n",
    "\n",
    "print(f'matplotlib version: {matplotlib.__version__}')\n",
    "print(\"TF Version: \", tf.__version__)\n",
    "print(\"TF-Hub version: \", hub.__version__)\n",
    "print(\"Eager mode enabled: \", tf.executing_eagerly())\n",
    "print(\"GPU available: \", tf.test.is_gpu_available())"
   ]
  },
  {
   "cell_type": "code",
   "execution_count": null,
   "metadata": {},
   "outputs": [],
   "source": [
    "## utility functions\n",
    "def untar(fpath):\n",
    "    fpath= Path(fpath)\n",
    "    if str(fpath).endswith(\"tar.gz\"):\n",
    "        tar = tarfile.open(fpath, \"r:gz\")\n",
    "        tar.extractall(fpath.parent)\n",
    "        tar.close()\n",
    "    elif str(fpath).endswith(\"tar\"):\n",
    "        tar = tarfile.open(fpath, \"r:\")\n",
    "        tar.extractall(fpath.parent)\n",
    "        tar.close()\n",
    "        \n",
    "def decode_img(img_path):\n",
    "    img = tf.io.read_file(str(img_path))\n",
    "    img = tf.image.decode_jpeg(img, channels=3)\n",
    "    img = tf.image.convert_image_dtype(img, tf.float32)\n",
    "    img = tf.image.resize(img, [400,400])\n",
    "    return img\n",
    "\n",
    "def viz_img(tensor):\n",
    "    if len(tensor.shape) > 3:\n",
    "        tensor = tf.squeeze(tensor,0)\n",
    "    return Image.fromarray(np.uint8(np.array(tensor)*255.))"
   ]
  },
  {
   "cell_type": "code",
   "execution_count": null,
   "metadata": {},
   "outputs": [],
   "source": [
    "## paths\n",
    "path_model_folder = Path('../model')\n",
    "path_model_compressed = Path('../model/magenta_arbitrary-image-stylization-v1-256_2.tar.gz')\n",
    "if not path_model_folder.exists():\n",
    "    path_model_folder.mkdir()\n",
    "    \n",
    "content_image_path = Path('./images/content/brad_pitt.jpg')\n",
    "#style_image_path = Path('./images/style/mosaic.jpg')\n",
    "style_image_path = Path('./images/style/colors_abstract.jpg')\n",
    "output_image_path = Path('./images/style/output.jpg')"
   ]
  },
  {
   "cell_type": "markdown",
   "metadata": {},
   "source": [
    "## code"
   ]
  },
  {
   "cell_type": "markdown",
   "metadata": {},
   "source": [
    "### download model"
   ]
  },
  {
   "cell_type": "code",
   "execution_count": null,
   "metadata": {},
   "outputs": [],
   "source": [
    "# Download Hub Module and load it\n",
    "nst_model_download_link = 'https://tfhub.dev/google/magenta/arbitrary-image-stylization-v1-256/2?tf-hub-format=compressed'\n",
    "urllib.request.urlretrieve(nst_model_download_link, path_model_compressed) ## download\n",
    "untar(path_model_compressed) ## decompress"
   ]
  },
  {
   "cell_type": "markdown",
   "metadata": {},
   "source": [
    "### load model"
   ]
  },
  {
   "cell_type": "code",
   "execution_count": null,
   "metadata": {},
   "outputs": [],
   "source": [
    "hub_module = hub.load(str(path_model_folder))"
   ]
  },
  {
   "cell_type": "markdown",
   "metadata": {},
   "source": [
    "### apply model"
   ]
  },
  {
   "cell_type": "code",
   "execution_count": null,
   "metadata": {},
   "outputs": [],
   "source": [
    "img_cnt = decode_img(str(content_image_path))\n",
    "img_cnt = tf.expand_dims(img_cnt, 0) if len(img_cnt.shape) == 3 else img_cnt\n",
    "img_style = decode_img(str(style_image_path))\n",
    "img_style = tf.expand_dims(img_style, 0) if len(img_style.shape) == 3 else img_style"
   ]
  },
  {
   "cell_type": "code",
   "execution_count": null,
   "metadata": {},
   "outputs": [],
   "source": [
    "viz_img(img_cnt)"
   ]
  },
  {
   "cell_type": "code",
   "execution_count": null,
   "metadata": {},
   "outputs": [],
   "source": [
    "viz_img(img_style)"
   ]
  },
  {
   "cell_type": "markdown",
   "metadata": {},
   "source": [
    "## run algo"
   ]
  },
  {
   "cell_type": "code",
   "execution_count": null,
   "metadata": {},
   "outputs": [],
   "source": [
    "outputs = hub_module(tf.constant(img_cnt), tf.constant(img_style))\n",
    "img_output = outputs[0]"
   ]
  },
  {
   "cell_type": "code",
   "execution_count": null,
   "metadata": {},
   "outputs": [],
   "source": [
    "output_img = tf.squeeze(outputs[0],0)\n",
    "output_img = Image.fromarray(np.uint8(np.array(output_img)*255.))\n",
    "output_img.save('')"
   ]
  },
  {
   "cell_type": "markdown",
   "metadata": {},
   "source": [
    "### visualize the result"
   ]
  },
  {
   "cell_type": "code",
   "execution_count": null,
   "metadata": {},
   "outputs": [],
   "source": [
    "## show images\n",
    "def show_n(images, titles=('',)):\n",
    "    \"\"\"\n",
    "    from: https://colab.research.google.com/github/tensorflow/hub/blob/master/examples/colab/tf2_arbitrary_image_stylization.ipynb#scrollTo=nnGvWQAezmxp\n",
    "    \"\"\"\n",
    "    n = len(images)\n",
    "    image_sizes = [image.shape[1] for image in images]\n",
    "    w = (image_sizes[0] * 6) // 320\n",
    "    plt.figure(figsize=(w  * n, w))\n",
    "    gs = gridspec.GridSpec(1, n, width_ratios=image_sizes)\n",
    "    for i in range(n):\n",
    "        plt.subplot(gs[i])\n",
    "        plt.imshow(images[i][0], aspect='equal')\n",
    "        plt.axis('off')\n",
    "        plt.title(titles[i] if len(titles) > i else '')\n",
    "    plt.show()"
   ]
  },
  {
   "cell_type": "code",
   "execution_count": null,
   "metadata": {},
   "outputs": [],
   "source": [
    "show_n([img_cnt, img_style, img_output], titles=['original', 'style', 'output'])"
   ]
  },
  {
   "cell_type": "markdown",
   "metadata": {},
   "source": [
    "## standalone script"
   ]
  },
  {
   "cell_type": "code",
   "execution_count": 2,
   "metadata": {},
   "outputs": [],
   "source": [
    "import numpy as np\n",
    "import matplotlib\n",
    "from matplotlib import gridspec\n",
    "import matplotlib.pylab as plt\n",
    "import numpy as np\n",
    "import tensorflow as tf\n",
    "import tensorflow_hub as hub\n",
    "from pathlib import Path\n",
    "from PIL import Image\n",
    "\n",
    "## paths definitions\n",
    "path_model_folder = Path('../model')\n",
    "\n",
    "## load nst model\n",
    "hub_module = hub.load(str(path_model_folder))\n",
    "\n",
    "## load image as tensorflow object\n",
    "def decode_img(img_path):\n",
    "        img = tf.io.read_file(str(img_path))\n",
    "        img = tf.image.decode_jpeg(img, channels=3)\n",
    "        img = tf.image.convert_image_dtype(img, tf.float32)\n",
    "        img = tf.image.resize(img, [400,400])\n",
    "        return img"
   ]
  },
  {
   "cell_type": "code",
   "execution_count": 3,
   "metadata": {},
   "outputs": [],
   "source": [
    "def apply_neural_style_transfer(path_img_content, path_img_style, path_img_output):\n",
    "    \"\"\"\n",
    "    Applies neural style transfer\n",
    "    :returns : path_output_img\n",
    "    \"\"\"\n",
    "    img_cnt = decode_img(str(path_img_content))\n",
    "    img_cnt = tf.expand_dims(img_cnt, 0) if len(img_cnt.shape) == 3 else img_cnt\n",
    "    img_style = decode_img(str(path_img_style))\n",
    "    img_style = tf.expand_dims(img_style, 0) if len(img_style.shape) == 3 else img_style\n",
    "    \n",
    "    outputs = hub_module(tf.constant(img_cnt), tf.constant(img_style))\n",
    "    img_output = tf.squeeze(outputs[0],0)\n",
    "    img_output = Image.fromarray(np.uint8(np.array(img_output)*255.))\n",
    "    img_output.save(path_img_output)\n",
    "    \n",
    "    return path_img_output"
   ]
  },
  {
   "cell_type": "markdown",
   "metadata": {},
   "source": [
    "### test"
   ]
  },
  {
   "cell_type": "code",
   "execution_count": 8,
   "metadata": {},
   "outputs": [],
   "source": [
    "path_img_content = Path('../app/assets/images/brad_pitt.jpg')\n",
    "path_img_style = Path('../app/assets/images/gray.jpeg')\n",
    "path_img_output = Path('../app/assets/images/output.jpg')"
   ]
  },
  {
   "cell_type": "code",
   "execution_count": 9,
   "metadata": {},
   "outputs": [
    {
     "data": {
      "text/plain": [
       "PosixPath('../app/assets/images/output.jpg')"
      ]
     },
     "execution_count": 9,
     "metadata": {},
     "output_type": "execute_result"
    }
   ],
   "source": [
    "apply_neural_style_transfer(path_img_content, path_img_style, path_img_output)"
   ]
  },
  {
   "cell_type": "code",
   "execution_count": null,
   "metadata": {},
   "outputs": [],
   "source": []
  }
 ],
 "metadata": {
  "kernelspec": {
   "display_name": "Python [conda env:pictulize]",
   "language": "python",
   "name": "conda-env-pictulize-py"
  },
  "language_info": {
   "codemirror_mode": {
    "name": "ipython",
    "version": 3
   },
   "file_extension": ".py",
   "mimetype": "text/x-python",
   "name": "python",
   "nbconvert_exporter": "python",
   "pygments_lexer": "ipython3",
   "version": "3.7.7"
  }
 },
 "nbformat": 4,
 "nbformat_minor": 4
}
